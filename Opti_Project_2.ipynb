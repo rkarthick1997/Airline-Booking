{
 "cells": [
  {
   "cell_type": "code",
   "execution_count": 1,
   "metadata": {
    "id": "p3wp7cw45sPZ"
   },
   "outputs": [],
   "source": [
    "import numpy as np\n",
    "import pandas as pd\n",
    "import matplotlib.pyplot as plt\n",
    "import scipy\n",
    "from scipy.stats import binom\n",
    "%matplotlib inline"
   ]
  },
  {
   "cell_type": "code",
   "execution_count": 2,
   "metadata": {
    "id": "BjKEsOxE5s8P"
   },
   "outputs": [],
   "source": [
    "# prices\n",
    "price_Lc = 300\n",
    "price_Hc = 350\n",
    "price_Lf = 425\n",
    "price_Hf = 500\n",
    "\n",
    "# demand probabilities\n",
    "#      [No Sale, Sale]\n",
    "prob_Lc = [0.35,0.65]\n",
    "prob_Hc = [0.7,0.3]\n",
    "prob_Lf = [0.92,0.08]\n",
    "prob_Hf = [0.96,0.04]\n",
    "\n",
    "delta = 1/(1+(0.15/365)) # discount rate (DAILY)\n",
    "\n",
    "n_coach = 100 # number of coach seats on plane\n",
    "n_first = 20 # number of first class seats on plane\n",
    "T = 365 # days until takeoff\n",
    "\n",
    "over_allowed = 5\n",
    "showprob_C = 0.95\n",
    "showprob_F = 0.97\n",
    "\n",
    "# cost of bump up/off\n",
    "cost_bumpup = 50\n",
    "cost_bumpoff = 425\n",
    "\n",
    "sValues_C = np.arange(n_coach+1) # all possible number of seats left in coach\n",
    "sValues_F = np.arange(n_first+1) # all possible number of seats left in first class\n",
    "tValues = np.arange(T+1) # all possible days until takeoff\n",
    "\n",
    "sN_C = len(sValues_C) # count possible state values in coach\n",
    "sN_F = len(sValues_F) # count possible state values in first class\n",
    "tN = len(tValues)"
   ]
  },
  {
   "cell_type": "markdown",
   "metadata": {
    "id": "v9tpoOKM40L1"
   },
   "source": [
    "# Part 1\n",
    "\n",
    "......\n",
    "\n",
    "What is the expected discounted profit of selling these tickets and paying out overbooking costs over the course of the year?\n",
    "\n",
    "a. On the day the flight takes off there is no revenue, only costs. You can calculate the expected cost using the binomial distribution (scipy.stats.binom.pmf), where the number of trials is the number of tickets sold, and a success is if a passenger shows up for the flight."
   ]
  },
  {
   "cell_type": "code",
   "execution_count": 3,
   "metadata": {
    "id": "9_kIs1_O5tBH"
   },
   "outputs": [],
   "source": [
    "V = np.zeros((sN_C,sN_F,tN)) # initialize value function\n",
    "U = np.zeros((sN_C,sN_F,tN)) # initialize optimal choice variable\n",
    "# I'll also initialize two more U arrays - to store values for coach & first-class separately (JUST IN CASE)\n",
    "U_C = np.zeros((sN_C,sN_F,tN))\n",
    "U_F = np.zeros((sN_C,sN_F,tN))\n",
    "\n",
    "# boundary/terminal condition\n",
    "# last column\n",
    "#V[:,:,tN-1] = 0 # when the flight takes off you can't make any more money\n",
    "U[:,:,tN-1] = 0 # 0 is the value for no tickets for sale\n",
    "U_C[:,:,tN-1] = 0\n",
    "U_F[:,:,tN-1] = 0"
   ]
  },
  {
   "cell_type": "code",
   "execution_count": 4,
   "metadata": {
    "id": "Furr3sU1wUy3"
   },
   "outputs": [],
   "source": [
    "########## TEST ##########\n",
    "# scipy.stats.binom.pmf(115,120,0.95)*scipy.stats.binom.pmf(19,19,0.97)"
   ]
  },
  {
   "cell_type": "code",
   "execution_count": 5,
   "metadata": {
    "id": "Jw4Bmq2hhtNF"
   },
   "outputs": [],
   "source": [
    "# write a function\n",
    "def overbook_func(n_ob): # n_ob: number of tickets overbooked in coach\n",
    "  tot_n_coach = n_coach + n_ob # number of coach seats on plane\n",
    "  tot_n_first = n_first # number of first class seats on plane\n",
    "  T = 365 # days until takeoff\n",
    "\n",
    "  sValues_C = np.arange(tot_n_coach + 1) # all possible number of seats left in coach\n",
    "  sValues_F = np.arange(tot_n_first + 1) # all possible number of seats left in first class\n",
    "  tValues = np.arange(T + 1) # all possible days until takeoff\n",
    "\n",
    "  sN_C = len(sValues_C) # count possible state values in coach\n",
    "  sN_F = len(sValues_F) # count possible state values in first class\n",
    "  tN = len(tValues)\n",
    "\n",
    "  V = np.zeros((sN_C,sN_F,tN)) # initialize value function\n",
    "  U = np.zeros((sN_C,sN_F,tN)) # initialize optimal choice variable\n",
    "\n",
    "  # boundary/terminal condition\n",
    "  # last column\n",
    "  #V[:,:,tN-1] = 0\n",
    "  U[:,:,tN-1] = 0 # 0 is the value for no tickets for sale\n",
    "\n",
    "\n",
    "\n",
    "  ##### Terminal condition #####\n",
    "  for c in range(sN_C):  # coach sold\n",
    "    for f in range(sN_F):  # first-class sold\n",
    "      #coach_sold = sN_C - ncoach\n",
    "      #first_sold = sN_F - nfirst\n",
    "      exp_cost = 0\n",
    "\n",
    "      # loop: 0 to all coach sold passengers show up & 0 to first class sold show up\n",
    "      for i in range(c+1): # coach people show up\n",
    "        for j in range(f+1): # first-class people show up\n",
    "          if i > n_coach:\n",
    "            #prob = scipy.stats.binom.pmf(i,c,0.95) * scipy.stats.binom.pmf(j,f,0.97)\n",
    "            #cost = 0\n",
    "\n",
    "            prob = binom.pmf(i, c, showprob_C) * binom.pmf(j, f, showprob_F)\n",
    "            overseat = max(i - n_coach,0)\n",
    "            up = min(n_first - j, overseat)\n",
    "            cost = (cost_bumpup*up + cost_bumpoff*(overseat-up))\n",
    "            exp_cost = exp_cost + prob * cost\n",
    "\n",
    "      # store the amount of cost in V array\n",
    "      V[c, f , -1] = exp_cost * (-1)\n",
    "\n",
    "\n",
    "\n",
    "    ##### Bellman Equations #####\n",
    "  for t in reversed(range(tN-1)):\n",
    "    for c in range(sN_C):  # c: coach sold\n",
    "      for f in range(sN_F):  # f: first-class sold\n",
    "\n",
    "        # if coach is sold out and first-class is also sold out\n",
    "        if (c == tot_n_coach and f == tot_n_first):  # flight full: 0 seats left in both classes\n",
    "          V[c,f,t] = delta*V[c, f, t+1] # we cannot make any more money on this day\n",
    "                                                                # we can only count the discounted expected value of tomorrow\n",
    "          U[c,f,t] = 0  # no tickets for sale\n",
    "          \n",
    "        # if coach is sold out but first-class still has seats left\n",
    "        elif (c == tot_n_coach and f != tot_n_first):  # 0 seats left only in coach\n",
    "\n",
    "          ### FORMULA: prob_sold * price + delta * (prob_sold * value_tmr + prob_notsold * value_tmr) ###\n",
    "          # low first-class price + discounted expected value of tomorrow\n",
    "          val_LcLf = prob_Lf[1]*price_Lf + delta*(prob_Lf[1]*V[c,f+1,t+1] + prob_Lf[0]*V[c,f,t+1])\n",
    "          val_HcLf = prob_Lf[1]*price_Lf + delta*(prob_Lf[1]*V[c,f+1,t+1] + prob_Lf[0]*V[c,f,t+1])\n",
    "          # high first-class price + discounted expected value of tomorrow\n",
    "          val_LcHf = prob_Hf[1]*price_Hf + delta*(prob_Hf[1]*V[c,f+1,t+1] + prob_Hf[0]*V[c,f,t+1])\n",
    "          val_HcHf = prob_Hf[1]*price_Hf + delta*(prob_Hf[1]*V[c,f+1,t+1] + prob_Hf[0]*V[c,f,t+1])\n",
    "          \n",
    "\n",
    "          V[c,f,t] = max(val_LcLf, val_HcLf, val_LcHf, val_HcHf)\n",
    "          U[c,f,t] = np.argmax([val_LcLf, val_HcLf, val_LcHf, val_HcHf]) + 1\n",
    "\n",
    "        # if coach still has seats left but first-class is sold out\n",
    "        elif(c != tot_n_coach and f == tot_n_first):  # 0 seats left only in first-class\n",
    "          # low coach price + discounted expected value of tomorrow\n",
    "          val_LcLf = prob_Lc[1]*price_Lc + delta*(prob_Lc[1]*V[c+1,f,t+1] + prob_Lc[0]*V[c,f,t+1])\n",
    "          val_LcHf = prob_Lc[1]*price_Lc + delta*(prob_Lc[1]*V[c+1,f,t+1] + prob_Lc[0]*V[c,f,t+1])\n",
    "          # high coach price + discounted expected value of tomorrow\n",
    "          val_HcLf = prob_Hc[1]*price_Hc + delta*(prob_Hc[1]*V[c+1,f,t+1] + prob_Hc[0]*V[c,f,t+1])\n",
    "          val_HcHf = prob_Hc[1]*price_Hc + delta*(prob_Hc[1]*V[c+1,f,t+1] + prob_Hc[0]*V[c,f,t+1])\n",
    "\n",
    "          V[c,f,t] = max(val_LcLf, val_HcLf, val_LcHf, val_HcHf)\n",
    "          U[c,f,t] = np.argmax([val_LcLf, val_HcLf, val_LcHf, val_HcHf]) + 1\n",
    "\n",
    "        # if both coach and first-class have seats left\n",
    "        else:\n",
    "          # low coach price/low first-class price + discounted expected value of tomorrow\n",
    "          val_LcLf = prob_Lc[1]*prob_Lf[1]*(price_Lc+price_Lf) + prob_Lc[1]*prob_Lf[0]*(price_Lc) + \\\n",
    "                     prob_Lc[0]*prob_Lf[1]*(price_Lf) + delta*(prob_Lc[1]*prob_Lf[1]*V[c+1,f+1,t+1] + \\\n",
    "                                                               prob_Lc[1]*prob_Lf[0]*V[c+1,f,t+1] + \\\n",
    "                                                               prob_Lc[0]*prob_Lf[1]*V[c,f+1,t+1] + \\\n",
    "                                                               prob_Lc[0]*prob_Lf[0]*V[c,f,t+1])\n",
    "\n",
    "          # high coach price/low first-class price + discounted expected value of tomorrow\n",
    "          val_HcLf = prob_Hc[1]*prob_Lf[1]*(price_Hc+price_Lf) + prob_Hc[1]*prob_Lf[0]*(price_Hc) + \\\n",
    "                     prob_Hc[0]*prob_Lf[1]*(price_Lf) + delta*(prob_Hc[1]*prob_Lf[1]*V[c+1,f+1,t+1] + \\\n",
    "                                                               prob_Hc[1]*prob_Lf[0]*V[c+1,f,t+1] + \\\n",
    "                                                               prob_Hc[0]*prob_Lf[1]*V[c,f+1,t+1] + \\\n",
    "                                                               prob_Hc[0]*prob_Lf[0]*V[c,f,t+1])   \n",
    "                        \n",
    "          # low coach price/high first-class price + discounted expected value of tomorrow\n",
    "          val_LcHf = prob_Lc[1]*prob_Hf[1]*(price_Lc+price_Hf) + prob_Lc[1]*prob_Hf[0]*(price_Lc) + \\\n",
    "                     prob_Lc[0]*prob_Hf[1]*(price_Hf) + delta*(prob_Lc[1]*prob_Hf[1]*V[c+1,f+1,t+1] + \\\n",
    "                                                               prob_Lc[1]*prob_Hf[0]*V[c+1,f,t+1] + \\\n",
    "                                                               prob_Lc[0]*prob_Hf[1]*V[c,f+1,t+1] + \\\n",
    "                                                               prob_Lc[0]*prob_Hf[0]*V[c,f,t+1])\n",
    "                     \n",
    "          # high coach price/high first-class price + discounted expected value of tomorrow\n",
    "          val_HcHf = prob_Hc[1]*prob_Hf[1]*(price_Hc+price_Hf) + prob_Hc[1]*prob_Hf[0]*(price_Hc) + \\\n",
    "                     prob_Hc[0]*prob_Hf[1]*(price_Hf) + delta*(prob_Hc[1]*prob_Hf[1]*V[c+1,f+1,t+1] + \\\n",
    "                                                               prob_Hc[1]*prob_Hf[0]*V[c+1,f,t+1] + \\\n",
    "                                                               prob_Hc[0]*prob_Hf[1]*V[c,f+1,t+1] + \\\n",
    "                                                               prob_Hc[0]*prob_Hf[0]*V[c,f,t+1])\n",
    "                     \n",
    "\n",
    "          V[c,f,t] = max(val_LcLf, val_HcLf, val_LcHf, val_HcHf)\n",
    "          U[c,f,t] = np.argmax([val_LcLf, val_HcLf, val_LcHf, val_HcHf]) + 1\n",
    "  \n",
    "\n",
    "  return (V, U)\n",
    "\n",
    "\n",
    "\n"
   ]
  },
  {
   "cell_type": "code",
   "execution_count": 6,
   "metadata": {
    "colab": {
     "base_uri": "https://localhost:8080/"
    },
    "id": "5wc8QHWt4atZ",
    "outputId": "ba352904-d46b-43ec-8949-402af289e236"
   },
   "outputs": [
    {
     "data": {
      "text/plain": [
       "(array([[[ 4.22428622e+04,  4.22317716e+04,  4.22203967e+04, ...,\n",
       "           4.57905929e+02,  2.29000000e+02,  0.00000000e+00],\n",
       "         [ 4.19078313e+04,  4.18969986e+04,  4.18858871e+04, ...,\n",
       "           4.57905929e+02,  2.29000000e+02,  0.00000000e+00],\n",
       "         [ 4.15679363e+04,  4.15572955e+04,  4.15463794e+04, ...,\n",
       "           4.57905929e+02,  2.29000000e+02,  0.00000000e+00],\n",
       "         ...,\n",
       "         [ 3.48582799e+04,  3.48509970e+04,  3.48434526e+04, ...,\n",
       "           4.57905929e+02,  2.29000000e+02,  0.00000000e+00],\n",
       "         [ 3.43681978e+04,  3.43609149e+04,  3.43533706e+04, ...,\n",
       "           4.55187046e+02,  2.29000000e+02,  0.00000000e+00],\n",
       "         [ 3.38730792e+04,  3.38657963e+04,  3.38582520e+04, ...,\n",
       "           3.89919896e+02,  1.95000000e+02,  0.00000000e+00]],\n",
       " \n",
       "        [[ 4.19625949e+04,  4.19523565e+04,  4.19418440e+04, ...,\n",
       "           4.57905929e+02,  2.29000000e+02,  0.00000000e+00],\n",
       "         [ 4.16275603e+04,  4.16175797e+04,  4.16073305e+04, ...,\n",
       "           4.57905929e+02,  2.29000000e+02,  0.00000000e+00],\n",
       "         [ 4.12876626e+04,  4.12778738e+04,  4.12678199e+04, ...,\n",
       "           4.57905929e+02,  2.29000000e+02,  0.00000000e+00],\n",
       "         ...,\n",
       "         [ 3.45779626e+04,  3.45715309e+04,  3.45648480e+04, ...,\n",
       "           4.57905929e+02,  2.29000000e+02,  0.00000000e+00],\n",
       "         [ 3.40878804e+04,  3.40814488e+04,  3.40747660e+04, ...,\n",
       "           4.55187046e+02,  2.29000000e+02,  0.00000000e+00],\n",
       "         [ 3.35927619e+04,  3.35863303e+04,  3.35796474e+04, ...,\n",
       "           3.89919896e+02,  1.95000000e+02,  0.00000000e+00]],\n",
       " \n",
       "        [[ 4.16791407e+04,  4.16697178e+04,  4.16600349e+04, ...,\n",
       "           4.57905929e+02,  2.29000000e+02,  0.00000000e+00],\n",
       "         [ 4.13441026e+04,  4.13349373e+04,  4.13255175e+04, ...,\n",
       "           4.57905929e+02,  2.29000000e+02,  0.00000000e+00],\n",
       "         [ 4.10042023e+04,  4.09952287e+04,  4.09860042e+04, ...,\n",
       "           4.57905929e+02,  2.29000000e+02,  0.00000000e+00],\n",
       "         ...,\n",
       "         [ 3.42944607e+04,  3.42888433e+04,  3.42829889e+04, ...,\n",
       "           4.57905929e+02,  2.29000000e+02,  0.00000000e+00],\n",
       "         [ 3.38043786e+04,  3.37987612e+04,  3.37929069e+04, ...,\n",
       "           4.55187046e+02,  2.29000000e+02,  0.00000000e+00],\n",
       "         [ 3.33092600e+04,  3.33036427e+04,  3.32977883e+04, ...,\n",
       "           3.89919896e+02,  1.95000000e+02,  0.00000000e+00]],\n",
       " \n",
       "        ...,\n",
       " \n",
       "        [[ 8.86167541e+03,  8.85780049e+03,  8.85390306e+03, ...,\n",
       "           4.32781209e+02,  2.14471728e+02, -7.20639416e+00],\n",
       "         [ 8.52661356e+03,  8.52299462e+03,  8.51935868e+03, ...,\n",
       "           4.32781209e+02,  2.14471728e+02, -7.20639416e+00],\n",
       "         [ 8.18669608e+03,  8.18326777e+03,  8.17982589e+03, ...,\n",
       "           4.32781209e+02,  2.14471728e+02, -7.20639416e+00],\n",
       "         ...,\n",
       "         [ 1.47667729e+03,  1.47659201e+03,  1.47650669e+03, ...,\n",
       "           4.08502396e+02,  2.07104677e+02, -8.30654904e+00],\n",
       "         [ 9.86595120e+02,  9.86509894e+02,  9.86424633e+02, ...,\n",
       "           3.62524986e+02,  1.85657628e+02, -1.57528605e+01],\n",
       "         [ 4.91476563e+02,  4.91391340e+02,  4.91306083e+02, ...,\n",
       "           2.31878620e+02,  1.07225296e+02, -4.15371203e+01]],\n",
       " \n",
       "        [[ 8.51248890e+03,  8.50861398e+03,  8.50471655e+03, ...,\n",
       "           2.96045174e+02,  1.98153616e+02, -1.84800069e+01],\n",
       "         [ 8.17742705e+03,  8.17380812e+03,  8.17017217e+03, ...,\n",
       "           2.96045174e+02,  1.98153616e+02, -1.84800069e+01],\n",
       "         [ 7.83750958e+03,  7.83408127e+03,  7.83063939e+03, ...,\n",
       "           2.96045174e+02,  1.98153616e+02, -1.84800069e+01],\n",
       "         ...,\n",
       "         [ 1.12749078e+03,  1.12740550e+03,  1.12732018e+03, ...,\n",
       "           2.56654861e+02,  1.69781723e+02, -2.68729410e+01],\n",
       "         [ 6.37408615e+02,  6.37323389e+02,  6.37238128e+02, ...,\n",
       "           1.91643303e+02,  1.18472577e+02, -5.22790988e+01],\n",
       "         [ 1.42290058e+02,  1.42204835e+02,  1.42119578e+02, ...,\n",
       "           3.81838042e+01, -9.77043576e-01, -1.12727359e+02]],\n",
       " \n",
       "        [[ 8.16282406e+03,  8.15894914e+03,  8.15505171e+03, ...,\n",
       "           3.04921513e+01, -3.50929027e+00, -3.75247050e+01],\n",
       "         [ 7.82776221e+03,  7.82414328e+03,  7.82050733e+03, ...,\n",
       "           3.04921513e+01, -3.50929027e+00, -3.75247050e+01],\n",
       "         [ 7.48784474e+03,  7.48441642e+03,  7.48097454e+03, ...,\n",
       "           3.04921513e+01, -3.50929027e+00, -3.75247050e+01],\n",
       "         ...,\n",
       "         [ 7.77825940e+02,  7.77740660e+02,  7.77655342e+02, ...,\n",
       "          -1.26281006e+01, -4.15469714e+01, -7.07999587e+01],\n",
       "         [ 2.87743773e+02,  2.87658547e+02,  2.87573285e+02, ...,\n",
       "          -8.20951534e+01, -1.05300614e+02, -1.30525701e+02],\n",
       "         [-2.07374785e+02, -2.07460007e+02, -2.07545265e+02, ...,\n",
       "          -2.40729802e+02, -2.40828732e+02, -2.40927702e+02]]]),\n",
       " array([[[2., 2., 2., ..., 1., 1., 0.],\n",
       "         [2., 2., 2., ..., 1., 1., 0.],\n",
       "         [2., 2., 2., ..., 1., 1., 0.],\n",
       "         ...,\n",
       "         [4., 4., 4., ..., 1., 1., 0.],\n",
       "         [4., 4., 4., ..., 1., 1., 0.],\n",
       "         [2., 2., 2., ..., 1., 1., 0.]],\n",
       " \n",
       "        [[2., 2., 2., ..., 1., 1., 0.],\n",
       "         [2., 2., 2., ..., 1., 1., 0.],\n",
       "         [2., 2., 2., ..., 1., 1., 0.],\n",
       "         ...,\n",
       "         [4., 4., 4., ..., 1., 1., 0.],\n",
       "         [4., 4., 4., ..., 1., 1., 0.],\n",
       "         [2., 2., 2., ..., 1., 1., 0.]],\n",
       " \n",
       "        [[2., 2., 2., ..., 1., 1., 0.],\n",
       "         [2., 2., 2., ..., 1., 1., 0.],\n",
       "         [2., 2., 2., ..., 1., 1., 0.],\n",
       "         ...,\n",
       "         [4., 4., 4., ..., 1., 1., 0.],\n",
       "         [4., 4., 4., ..., 1., 1., 0.],\n",
       "         [2., 2., 2., ..., 1., 1., 0.]],\n",
       " \n",
       "        ...,\n",
       " \n",
       "        [[2., 2., 2., ..., 1., 1., 0.],\n",
       "         [2., 2., 2., ..., 1., 1., 0.],\n",
       "         [2., 2., 2., ..., 1., 1., 0.],\n",
       "         ...,\n",
       "         [4., 4., 4., ..., 1., 1., 0.],\n",
       "         [4., 4., 4., ..., 1., 1., 0.],\n",
       "         [2., 2., 2., ..., 1., 1., 0.]],\n",
       " \n",
       "        [[2., 2., 2., ..., 1., 1., 0.],\n",
       "         [2., 2., 2., ..., 1., 1., 0.],\n",
       "         [2., 2., 2., ..., 1., 1., 0.],\n",
       "         ...,\n",
       "         [4., 4., 4., ..., 1., 1., 0.],\n",
       "         [4., 4., 4., ..., 1., 1., 0.],\n",
       "         [2., 2., 2., ..., 1., 1., 0.]],\n",
       " \n",
       "        [[1., 1., 1., ..., 1., 1., 0.],\n",
       "         [1., 1., 1., ..., 1., 1., 0.],\n",
       "         [1., 1., 1., ..., 1., 1., 0.],\n",
       "         ...,\n",
       "         [3., 3., 3., ..., 1., 1., 0.],\n",
       "         [3., 3., 3., ..., 1., 1., 0.],\n",
       "         [0., 0., 0., ..., 0., 0., 0.]]]))"
      ]
     },
     "execution_count": 6,
     "metadata": {},
     "output_type": "execute_result"
    }
   ],
   "source": [
    "# when allow overbook 5 tickets \n",
    "  # - store U and V in \"result\" variable:\n",
    "over_allowed_5 = 5\n",
    "over_5_result = overbook_func(over_allowed_5)\n",
    "over_5_result"
   ]
  },
  {
   "cell_type": "code",
   "execution_count": 7,
   "metadata": {
    "colab": {
     "base_uri": "https://localhost:8080/"
    },
    "id": "oZNg5jE_xX1S",
    "outputId": "ec2a70ec-fb16-4b6c-b982-7ad1806bff09"
   },
   "outputs": [
    {
     "name": "stdout",
     "output_type": "stream",
     "text": [
      "When allow overbooking 5 tickets, expected profit is: $42242.86219879507\n"
     ]
    }
   ],
   "source": [
    "# expected profit in this case...\n",
    "V_5 = over_5_result[0]\n",
    "U_5 = over_5_result[1]\n",
    "\n",
    "expected_profit_5 = V_5[0,0,0]\n",
    "print(\"When allow overbooking 5 tickets, expected profit is: $\" + str(expected_profit_5))"
   ]
  },
  {
   "cell_type": "code",
   "execution_count": 133,
   "metadata": {
    "id": "q61HHWRS4axD"
   },
   "outputs": [],
   "source": []
  },
  {
   "cell_type": "markdown",
   "metadata": {
    "id": "lAuLVrTfwhQq"
   },
   "source": [
    "# Part 2\n",
    "\n",
    "Repeat step (1) while allowing coach to be oversold by 6, 7, 8, ..., 15 seats. Which overbooking policy from this leads to the largest profits by the airline?"
   ]
  },
  {
   "cell_type": "code",
   "execution_count": 134,
   "metadata": {
    "colab": {
     "base_uri": "https://localhost:8080/"
    },
    "id": "W0WptDoF4a1H",
    "outputId": "a22af551-4fca-4ec2-e6fc-6d88e34e0992"
   },
   "outputs": [
    {
     "name": "stdout",
     "output_type": "stream",
     "text": [
      "Overbooking tickets:  6\n",
      "Expected Profit: $42368.86899301223\n",
      "Overbooking tickets:  7\n",
      "Expected Profit: $42444.241213317226\n",
      "Overbooking tickets:  8\n",
      "Expected Profit: $42482.211237591255\n",
      "Overbooking tickets:  9\n",
      "Expected Profit: $42496.112304378694\n",
      "Overbooking tickets:  10\n",
      "Expected Profit: $42495.97195739831\n",
      "Overbooking tickets:  11\n",
      "Expected Profit: $42488.25953578203\n",
      "Overbooking tickets:  12\n",
      "Expected Profit: $42476.99620870186\n",
      "Overbooking tickets:  13\n",
      "Expected Profit: $42464.59794015476\n",
      "Overbooking tickets:  14\n",
      "Expected Profit: $42452.36220993062\n",
      "Overbooking tickets:  15\n",
      "Expected Profit: $42440.944844238955\n"
     ]
    }
   ],
   "source": [
    "overbook_num1 = [6,7,8,9,10,11,12,13,14,15]  # store the number of tickets that is allowed to be overbooked\n",
    "exp_profit_list1 = []  # store the expected profit\n",
    "\n",
    "for n in range(6,16):\n",
    "  print(\"Overbooking tickets: \", n)\n",
    "  over_result = overbook_func(n)\n",
    "  V_result = over_result[0]\n",
    "  exp_profit = V_result[0,0,0]\n",
    "  print(\"Expected Profit: $\" + str(exp_profit))\n",
    "  exp_profit_list1.append(exp_profit)\n",
    "\n"
   ]
  },
  {
   "cell_type": "code",
   "execution_count": 135,
   "metadata": {
    "colab": {
     "base_uri": "https://localhost:8080/",
     "height": 283
    },
    "id": "wqzr2ffBzwBP",
    "outputId": "30b7f224-9fb4-4b9e-b59b-745f7e7ba02f"
   },
   "outputs": [
    {
     "data": {
      "text/plain": [
       "<matplotlib.collections.PathCollection at 0x7f5dfbdde1d0>"
      ]
     },
     "execution_count": 135,
     "metadata": {},
     "output_type": "execute_result"
    },
    {
     "data": {
      "image/png": "[encoded data removed]",
      "text/plain": [
       "<Figure size 432x288 with 1 Axes>"
      ]
     },
     "metadata": {
      "needs_background": "light"
     },
     "output_type": "display_data"
    }
   ],
   "source": [
    "plt.scatter(overbook_num1,exp_profit_list1,marker='o', s=60)"
   ]
  },
  {
   "cell_type": "code",
   "execution_count": 136,
   "metadata": {
    "colab": {
     "base_uri": "https://localhost:8080/"
    },
    "id": "2eUY6Qk45tEd",
    "outputId": "7956f8ed-66cf-4c1a-9725-f2060d43808e"
   },
   "outputs": [
    {
     "name": "stdout",
     "output_type": "stream",
     "text": [
      "Overbooking 9 seats leads to the largest profits, which is $42496.11\n"
     ]
    }
   ],
   "source": [
    "print(\"Overbooking 9 seats leads to the largest profits, which is $42496.11\")"
   ]
  },
  {
   "cell_type": "code",
   "execution_count": 136,
   "metadata": {
    "id": "CoGoXov8ZzhX"
   },
   "outputs": [],
   "source": []
  },
  {
   "cell_type": "code",
   "execution_count": 137,
   "metadata": {
    "colab": {
     "base_uri": "https://localhost:8080/"
    },
    "id": "WgakqQoPZdG8",
    "outputId": "f31cc4e0-322e-44a0-8c8d-1932816394b8"
   },
   "outputs": [
    {
     "name": "stdout",
     "output_type": "stream",
     "text": [
      "42496.112304378694\n"
     ]
    }
   ],
   "source": [
    "# Next, get the V and U vectors when overbook number = 9:\n",
    "\n",
    "# when allow overbook 9 tickets \n",
    "  # - store U and V in \"result\" variable:\n",
    "over_allowed_9 = 9\n",
    "over_9_result = overbook_func(over_allowed_9)\n",
    "\n",
    "# expected profit in this case...\n",
    "V_9 = over_9_result[0]\n",
    "U_9 = over_9_result[1]\n",
    "\n",
    "expected_profit_9 = V_9[0,0,0]\n",
    "print(expected_profit_9)\n",
    "#print(\"When allow overbooking 5 tickets, expected profit is: $\" + str(expected_profit))"
   ]
  },
  {
   "cell_type": "code",
   "execution_count": 137,
   "metadata": {
    "id": "AQ3EhFkx5tHp"
   },
   "outputs": [],
   "source": []
  },
  {
   "cell_type": "markdown",
   "metadata": {
    "id": "SsOcWQNop-ZD"
   },
   "source": [
    "# Part 3\n",
    "\n",
    "Compare the previous policy, where there is a hard cap on seats sold, to another strategy where there is a third choice on each day when you’re deciding ticket prices. Consider a new policy that allows the airline to choose to sell no coach tickets on a day if it wants; the airline has the option to force demand to 0 on a day. Now there are 3 choices each day for coach: high price, low price, and no sale. There are still just 2 choices each day for first class: high and low price. Assume that the airline will never sell more than 120 seats in coach, but on any one day they can choose to not sell coach tickets. This way they can stop over-selling tickets not just based on how many they have sold, but also on how many days are left to sell. Does this policy have a better or worse expected profit than the best policy from step 2?"
   ]
  },
  {
   "cell_type": "code",
   "execution_count": 138,
   "metadata": {
    "id": "GDUG5dSi5tKR"
   },
   "outputs": [],
   "source": [
    "# some variables defined earlier...\n",
    "# prices\n",
    "price_Lc = 300\n",
    "price_Hc = 350\n",
    "price_Lf = 425\n",
    "price_Hf = 500\n",
    "\n",
    "# demand probabilities\n",
    "#      [No Sale, Sale]\n",
    "prob_Lc = [0.35,0.65]\n",
    "prob_Hc = [0.7,0.3]\n",
    "prob_Lf = [0.92,0.08]\n",
    "prob_Hf = [0.96,0.04]\n",
    "\n",
    "delta = 1/(1+(0.15/365)) # discount rate (DAILY)"
   ]
  },
  {
   "cell_type": "code",
   "execution_count": 139,
   "metadata": {
    "id": "cB3_wNwz3coW"
   },
   "outputs": [],
   "source": [
    "# a new function\n",
    "def new_overbook_func(n_ob): # n_ob: number of tickets overbooked in coach\n",
    "  tot_n_coach = n_coach + n_ob # number of coach seats on plane\n",
    "  tot_n_first = n_first # number of first class seats on plane\n",
    "  T = 365 # days until takeoff\n",
    "\n",
    "  sValues_C = np.arange(tot_n_coach + 1) # all possible number of seats left in coach\n",
    "  sValues_F = np.arange(tot_n_first + 1) # all possible number of seats left in first class\n",
    "  tValues = np.arange(T + 1) # all possible days until takeoff\n",
    "\n",
    "  sN_C = len(sValues_C) # count possible state values in coach\n",
    "  sN_F = len(sValues_F) # count possible state values in first class\n",
    "  tN = len(tValues)\n",
    "\n",
    "  V = np.zeros((sN_C,sN_F,tN)) # initialize value function\n",
    "  U = np.zeros((sN_C,sN_F,tN)) # initialize optimal choice variable\n",
    "\n",
    "  # boundary/terminal condition\n",
    "  # last column\n",
    "  #V[:,:,tN-1] = 0\n",
    "  U[:,:,tN-1] = 0 # 0 is the value for no tickets for sale\n",
    "\n",
    "\n",
    "\n",
    "  ##### Terminal condition #####\n",
    "  for c in range(sN_C):  # coach sold\n",
    "    for f in range(sN_F):  # first-class sold\n",
    "      #coach_sold = sN_C - ncoach\n",
    "      #first_sold = sN_F - nfirst\n",
    "      exp_cost = 0\n",
    "\n",
    "      # loop: 0 to all coach sold passengers show up & 0 to first class sold show up\n",
    "      for i in range(c+1): # coach people show up\n",
    "        for j in range(f+1): # first-class people show up\n",
    "          if i > n_coach:\n",
    "            #prob = scipy.stats.binom.pmf(i,c,0.95) * scipy.stats.binom.pmf(j,f,0.97)\n",
    "            #cost = 0\n",
    "\n",
    "            prob = binom.pmf(i, c, showprob_C) * binom.pmf(j, f, showprob_F)\n",
    "            overseat = max(i - n_coach,0)\n",
    "            up = min(n_first - j, overseat)\n",
    "            cost = (cost_bumpup*up + cost_bumpoff*(overseat-up))\n",
    "            exp_cost = exp_cost + prob * cost\n",
    "\n",
    "      # store the amount of cost in V array\n",
    "      V[c, f , -1] = exp_cost * (-1)\n",
    "\n",
    "\n",
    "\n",
    "    ##### Bellman Equations #####\n",
    "  for t in reversed(range(tN-1)):\n",
    "    for c in range(sN_C):  # c: coach sold\n",
    "      for f in range(sN_F):  # f: first-class sold\n",
    "\n",
    "        # if coach is sold out and first-class is also sold out\n",
    "        if (c == tot_n_coach and f == tot_n_first):  # flight full: 0 seats left in both classes\n",
    "          V[c,f,t] = delta*V[c, f, t+1] # we cannot make any more money on this day\n",
    "                                                                # we can only count the discounted expected value of tomorrow\n",
    "          U[c,f,t] = 0  # no tickets for sale\n",
    "          \n",
    "        # if coach is sold out but first-class still has seats left\n",
    "        elif (c == tot_n_coach and f != tot_n_first):  # 0 seats left only in coach\n",
    "\n",
    "          ### FORMULA: prob_sold * price + delta * (prob_sold * value_tmr + prob_notsold * value_tmr) ###\n",
    "          # low first-class price + discounted expected value of tomorrow\n",
    "          val_LcLf = prob_Lf[1]*price_Lf + delta*(prob_Lf[1]*V[c,f+1,t+1] + prob_Lf[0]*V[c,f,t+1])\n",
    "          val_HcLf = prob_Lf[1]*price_Lf + delta*(prob_Lf[1]*V[c,f+1,t+1] + prob_Lf[0]*V[c,f,t+1])\n",
    "          # high first-class price + discounted expected value of tomorrow\n",
    "          val_LcHf = prob_Hf[1]*price_Hf + delta*(prob_Hf[1]*V[c,f+1,t+1] + prob_Hf[0]*V[c,f,t+1])\n",
    "          val_HcHf = prob_Hf[1]*price_Hf + delta*(prob_Hf[1]*V[c,f+1,t+1] + prob_Hf[0]*V[c,f,t+1])\n",
    "          \n",
    "\n",
    "          V[c,f,t] = max(val_LcLf, val_HcLf, val_LcHf, val_HcHf)\n",
    "          U[c,f,t] = np.argmax([val_LcLf, val_HcLf, val_LcHf, val_HcHf]) + 1\n",
    "\n",
    "        # if coach still has seats left but first-class is sold out\n",
    "        elif(c != tot_n_coach and f == tot_n_first):  # 0 seats left only in first-class\n",
    "          # low coach price + discounted expected value of tomorrow\n",
    "          val_LcLf = prob_Lc[1]*price_Lc + delta*(prob_Lc[1]*V[c+1,f,t+1] + prob_Lc[0]*V[c,f,t+1])\n",
    "          val_LcHf = prob_Lc[1]*price_Lc + delta*(prob_Lc[1]*V[c+1,f,t+1] + prob_Lc[0]*V[c,f,t+1])\n",
    "          # high coach price + discounted expected value of tomorrow\n",
    "          val_HcLf = prob_Hc[1]*price_Hc + delta*(prob_Hc[1]*V[c+1,f,t+1] + prob_Hc[0]*V[c,f,t+1])\n",
    "          val_HcHf = prob_Hc[1]*price_Hc + delta*(prob_Hc[1]*V[c+1,f,t+1] + prob_Hc[0]*V[c,f,t+1])\n",
    "\n",
    "          V[c,f,t] = max(val_LcLf, val_HcLf, val_LcHf, val_HcHf)\n",
    "          U[c,f,t] = np.argmax([val_LcLf, val_HcLf, val_LcHf, val_HcHf]) + 1\n",
    "\n",
    "        # if both coach and first-class have seats left\n",
    "        else:\n",
    "          # low coach price/low first-class price + discounted expected value of tomorrow\n",
    "          val_LcLf = prob_Lc[1]*prob_Lf[1]*(price_Lc+price_Lf) + prob_Lc[1]*prob_Lf[0]*(price_Lc) + \\\n",
    "                     prob_Lc[0]*prob_Lf[1]*(price_Lf) + delta*(prob_Lc[1]*prob_Lf[1]*V[c+1,f+1,t+1] + \\\n",
    "                                                               prob_Lc[1]*prob_Lf[0]*V[c+1,f,t+1] + \\\n",
    "                                                               prob_Lc[0]*prob_Lf[1]*V[c,f+1,t+1] + \\\n",
    "                                                               prob_Lc[0]*prob_Lf[0]*V[c,f,t+1])\n",
    "\n",
    "          # high coach price/low first-class price + discounted expected value of tomorrow\n",
    "          val_HcLf = prob_Hc[1]*prob_Lf[1]*(price_Hc+price_Lf) + prob_Hc[1]*prob_Lf[0]*(price_Hc) + \\\n",
    "                     prob_Hc[0]*prob_Lf[1]*(price_Lf) + delta*(prob_Hc[1]*prob_Lf[1]*V[c+1,f+1,t+1] + \\\n",
    "                                                               prob_Hc[1]*prob_Lf[0]*V[c+1,f,t+1] + \\\n",
    "                                                               prob_Hc[0]*prob_Lf[1]*V[c,f+1,t+1] + \\\n",
    "                                                               prob_Hc[0]*prob_Lf[0]*V[c,f,t+1])   \n",
    "                        \n",
    "          # low coach price/high first-class price + discounted expected value of tomorrow\n",
    "          val_LcHf = prob_Lc[1]*prob_Hf[1]*(price_Lc+price_Hf) + prob_Lc[1]*prob_Hf[0]*(price_Lc) + \\\n",
    "                     prob_Lc[0]*prob_Hf[1]*(price_Hf) + delta*(prob_Lc[1]*prob_Hf[1]*V[c+1,f+1,t+1] + \\\n",
    "                                                               prob_Lc[1]*prob_Hf[0]*V[c+1,f,t+1] + \\\n",
    "                                                               prob_Lc[0]*prob_Hf[1]*V[c,f+1,t+1] + \\\n",
    "                                                               prob_Lc[0]*prob_Hf[0]*V[c,f,t+1])\n",
    "                     \n",
    "          # high coach price/high first-class price + discounted expected value of tomorrow\n",
    "          val_HcHf = prob_Hc[1]*prob_Hf[1]*(price_Hc+price_Hf) + prob_Hc[1]*prob_Hf[0]*(price_Hc) + \\\n",
    "                     prob_Hc[0]*prob_Hf[1]*(price_Hf) + delta*(prob_Hc[1]*prob_Hf[1]*V[c+1,f+1,t+1] + \\\n",
    "                                                               prob_Hc[1]*prob_Hf[0]*V[c+1,f,t+1] + \\\n",
    "                                                               prob_Hc[0]*prob_Hf[1]*V[c,f+1,t+1] + \\\n",
    "                                                               prob_Hc[0]*prob_Hf[0]*V[c,f,t+1])\n",
    "          \n",
    "          # In this case, we have No Sale option in coach class:\n",
    "          # No sale in coach/low first-class price + discounted expected value of tomorrow\n",
    "          val_NcLf = prob_Lf[1]*price_Lf + delta*(prob_Lf[0]*V[c,f,t+1] + prob_Lf[1]*V[c,f+1,t+1])\n",
    "\n",
    "          # No sale in coach/high first-class price + discounted expected value of tomorrow\n",
    "          val_NcHf = prob_Hf[1]*price_Hf + delta*(prob_Hf[0]*V[c,f,t+1] + prob_Hf[1]*V[c,f+1,n+1])\n",
    "                     \n",
    "                     \n",
    "\n",
    "          V[c,f,t] = max(val_LcLf, val_HcLf, val_LcHf, val_HcHf, val_NcLf, val_NcHf)\n",
    "          U[c,f,t] = np.argmax([val_LcLf, val_HcLf, val_LcHf, val_HcHf, val_NcLf, val_NcHf]) + 1\n",
    "  \n",
    "\n",
    "  return (V, U)\n",
    "\n",
    "\n",
    "\n"
   ]
  },
  {
   "cell_type": "code",
   "execution_count": 140,
   "metadata": {
    "colab": {
     "base_uri": "https://localhost:8080/"
    },
    "id": "EZRy8Pel5tLW",
    "outputId": "65b91ef1-2206-48d7-da71-026963e4ab3c"
   },
   "outputs": [
    {
     "data": {
      "text/plain": [
       "(array([[[44338.80154938, 44318.45364552, 44298.03015811, ...,\n",
       "            457.90592907,   229.        ,     0.        ],\n",
       "         [43991.27893358, 43971.25308107, 43951.152903  , ...,\n",
       "            457.90592907,   229.        ,     0.        ],\n",
       "         [43633.74631741, 43614.34620276, 43594.85294086, ...,\n",
       "            457.90592907,   229.        ,     0.        ],\n",
       "         ...,\n",
       "         [34944.30498521, 34939.37981405, 34934.10974927, ...,\n",
       "            457.90592907,   229.        ,     0.        ],\n",
       "         [34454.20368275, 34449.2789346 , 34444.00929564, ...,\n",
       "            455.18704642,   229.        ,     0.        ],\n",
       "         [33959.08387044, 33954.15915014, 33948.88953928, ...,\n",
       "            389.91989593,   195.        ,     0.        ]],\n",
       " \n",
       "        [[44088.35023107, 44068.06585846, 44047.7059257 , ...,\n",
       "            457.90592907,   229.        ,     0.        ],\n",
       "         [43740.89085063, 43720.92926159, 43700.89352511, ...,\n",
       "            457.90592907,   229.        ,     0.        ],\n",
       "         [43383.47086491, 43364.1324573 , 43344.70102426, ...,\n",
       "            457.90592907,   229.        ,     0.        ],\n",
       "         ...,\n",
       "         [34655.97359878, 34652.17499591, 34648.0477711 , ...,\n",
       "            457.90592907,   229.        ,     0.        ],\n",
       "         [34165.86851883, 34162.07038307, 34157.94363001, ...,\n",
       "            455.18704642,   229.        ,     0.        ],\n",
       "         [33670.74844676, 33666.95034184, 33662.82361999, ...,\n",
       "            389.91989593,   195.        ,     0.        ]],\n",
       " \n",
       "        [[43837.63499818, 43817.41410468, 43797.11761912, ...,\n",
       "            457.90592907,   229.        ,     0.        ],\n",
       "         [43490.23888978, 43470.34156207, 43450.37019061, ...,\n",
       "            457.90592907,   229.        ,     0.        ],\n",
       "         [43132.92982782, 43113.65315422, 43094.28357248, ...,\n",
       "            457.90592907,   229.        ,     0.        ],\n",
       "         ...,\n",
       "         [34363.55256476, 34360.820499  , 34357.78341235, ...,\n",
       "            457.90592907,   229.        ,     0.        ],\n",
       "         [33873.4430683 , 33870.7115133 , 33867.67494403, ...,\n",
       "            455.18704642,   229.        ,     0.        ],\n",
       "         [33378.32269006, 33375.59116889, 33372.55463394, ...,\n",
       "            389.91989593,   195.        ,     0.        ]],\n",
       " \n",
       "        ...,\n",
       " \n",
       "        [[ 8310.62148258,  8306.10154035,  8301.48360793, ...,\n",
       "           -208.36374012,  -406.61402527,  -605.00043997],\n",
       "         [ 7981.7274888 ,  7978.37522656,  7974.95076268, ...,\n",
       "           -209.10522366,  -406.6549993 ,  -605.00043997],\n",
       "         [ 7637.36483562,  7634.8115078 ,  7632.20669924, ...,\n",
       "           -213.20512105,  -407.43985931,  -605.00043997],\n",
       "         ...,\n",
       "         [ 1143.47132215,  1149.16646195,  1155.10133722, ...,\n",
       "          -3819.26740146, -4000.88039853, -4190.13834909],\n",
       "         [-1356.63317782, -1257.7109768 , -1154.68056704, ...,\n",
       "          -4154.13923137, -4349.84857402, -4553.79625229],\n",
       "         [-4228.85489802, -4230.87998278, -4232.90589976, ...,\n",
       "          -4945.56429756, -4931.56707131, -4917.51496081]],\n",
       " \n",
       "        [[ 7960.94661243,  7956.42819834,  7951.81161488, ...,\n",
       "           -362.53855347,  -454.13447288,  -652.50012696],\n",
       "         [ 7631.96900414,  7628.62899056,  7625.21631328, ...,\n",
       "           -363.95242794,  -454.90399503,  -652.50012696],\n",
       "         [ 7286.88015262,  7284.40982301,  7281.88828433, ...,\n",
       "           -371.09546766,  -459.64330837,  -653.28841288],\n",
       "         ...,\n",
       "         [  949.20849298,   947.6934755 ,   946.11468374, ...,\n",
       "          -4190.97441122, -4388.23432151, -4593.79783819],\n",
       "         [-1709.16061341, -1609.84324441, -1506.3451357 , ...,\n",
       "          -4525.90107881, -4737.25964306, -4957.51529299],\n",
       "         [-4578.04140302, -4580.06648778, -4582.09240477, ...,\n",
       "          -5344.1556735 , -5335.14307337, -5321.2547361 ]],\n",
       " \n",
       "        [[ 3571.86128143,  3566.76336352,  3561.65551873, ...,\n",
       "           -631.59268319,  -665.77421945,  -700.00003529],\n",
       "         [ 3228.66142891,  3223.66128236,  3218.65133557, ...,\n",
       "           -633.18275067,  -666.92415671,  -700.77206789],\n",
       "         [ 2882.47698382,  2877.57404626,  2872.66091681, ...,\n",
       "           -641.09676449,  -673.58388987,  -706.27381596],\n",
       "         ...,\n",
       "         [-3942.50471879, -3944.52982951, -3946.55577349, ...,\n",
       "          -4982.49430049, -4990.00652515, -4997.51587235],\n",
       "         [-4432.58763986, -4434.61272623, -4436.63864489, ...,\n",
       "          -5346.15326054, -5353.5963981 , -5361.25486209],\n",
       "         [-4927.7062457 , -4929.73133046, -4931.75724745, ...,\n",
       "          -5720.29886286, -5722.64967061, -5725.00144445]]]),\n",
       " array([[[1., 1., 1., ..., 1., 1., 0.],\n",
       "         [3., 3., 3., ..., 1., 1., 0.],\n",
       "         [3., 3., 3., ..., 1., 1., 0.],\n",
       "         ...,\n",
       "         [4., 4., 4., ..., 1., 1., 0.],\n",
       "         [4., 4., 4., ..., 1., 1., 0.],\n",
       "         [2., 2., 2., ..., 1., 1., 0.]],\n",
       " \n",
       "        [[1., 1., 1., ..., 1., 1., 0.],\n",
       "         [3., 3., 3., ..., 1., 1., 0.],\n",
       "         [3., 3., 3., ..., 1., 1., 0.],\n",
       "         ...,\n",
       "         [4., 4., 4., ..., 1., 1., 0.],\n",
       "         [4., 4., 4., ..., 1., 1., 0.],\n",
       "         [2., 2., 2., ..., 1., 1., 0.]],\n",
       " \n",
       "        [[1., 1., 1., ..., 1., 1., 0.],\n",
       "         [3., 3., 3., ..., 1., 1., 0.],\n",
       "         [3., 3., 3., ..., 1., 1., 0.],\n",
       "         ...,\n",
       "         [4., 4., 4., ..., 1., 1., 0.],\n",
       "         [4., 4., 4., ..., 1., 1., 0.],\n",
       "         [2., 2., 2., ..., 1., 1., 0.]],\n",
       " \n",
       "        ...,\n",
       " \n",
       "        [[2., 2., 2., ..., 1., 1., 0.],\n",
       "         [2., 2., 2., ..., 1., 1., 0.],\n",
       "         [4., 4., 4., ..., 1., 1., 0.],\n",
       "         ...,\n",
       "         [6., 6., 6., ..., 6., 6., 0.],\n",
       "         [4., 4., 4., ..., 6., 6., 0.],\n",
       "         [2., 2., 2., ..., 2., 2., 0.]],\n",
       " \n",
       "        [[5., 5., 5., ..., 1., 1., 0.],\n",
       "         [5., 5., 5., ..., 1., 1., 0.],\n",
       "         [5., 5., 5., ..., 1., 1., 0.],\n",
       "         ...,\n",
       "         [6., 6., 6., ..., 6., 6., 0.],\n",
       "         [6., 6., 6., ..., 6., 6., 0.],\n",
       "         [2., 2., 2., ..., 2., 2., 0.]],\n",
       " \n",
       "        [[1., 1., 1., ..., 1., 1., 0.],\n",
       "         [1., 1., 1., ..., 1., 1., 0.],\n",
       "         [1., 1., 1., ..., 1., 1., 0.],\n",
       "         ...,\n",
       "         [3., 3., 3., ..., 3., 3., 0.],\n",
       "         [3., 3., 3., ..., 3., 3., 0.],\n",
       "         [0., 0., 0., ..., 0., 0., 0.]]]))"
      ]
     },
     "execution_count": 140,
     "metadata": {},
     "output_type": "execute_result"
    }
   ],
   "source": [
    "# - store U and V in \"over_20_result\" variable:\n",
    "over_allowed_20 = 20\n",
    "over_20_result = new_overbook_func(over_allowed_20)\n",
    "over_20_result"
   ]
  },
  {
   "cell_type": "code",
   "execution_count": 141,
   "metadata": {
    "colab": {
     "base_uri": "https://localhost:8080/"
    },
    "id": "1rq0EzsAwmPk",
    "outputId": "e8ae1dfe-d37f-463c-994b-4eb39f16de95"
   },
   "outputs": [
    {
     "name": "stdout",
     "output_type": "stream",
     "text": [
      "In this case, when allow overbooking 20 tickets, expected profit is: $44338.80154938388\n"
     ]
    }
   ],
   "source": [
    "# expected profit in this case...\n",
    "V_20 = over_20_result[0]\n",
    "U_20 = over_20_result[1]\n",
    "\n",
    "expected_profit_20 = V_20[0,0,0]\n",
    "print(\"In this case, when allow overbooking 20 tickets, expected profit is: $\" + str(expected_profit_20))"
   ]
  },
  {
   "cell_type": "code",
   "execution_count": 142,
   "metadata": {
    "colab": {
     "base_uri": "https://localhost:8080/"
    },
    "id": "lWz3EYg0wmSE",
    "outputId": "03889fae-66b7-484a-8bf9-05a696ba9386"
   },
   "outputs": [
    {
     "name": "stdout",
     "output_type": "stream",
     "text": [
      "Overbooking tickets: 1  Expected Profit: $41290.63589277684\n",
      "Overbooking tickets: 2  Expected Profit: $41572.57008156323\n",
      "Overbooking tickets: 3  Expected Profit: $41834.892327233894\n",
      "Overbooking tickets: 4  Expected Profit: $42062.739083100605\n",
      "Overbooking tickets: 5  Expected Profit: $42242.86219879507\n",
      "Overbooking tickets: 6  Expected Profit: $42376.60410740296\n",
      "Overbooking tickets: 7  Expected Profit: $42487.58852281237\n",
      "Overbooking tickets: 8  Expected Profit: $42568.98433441085\n",
      "Overbooking tickets: 9  Expected Profit: $42638.03814696482\n",
      "Overbooking tickets: 10  Expected Profit: $42713.5754576192\n",
      "Overbooking tickets: 11  Expected Profit: $42808.111179716165\n",
      "Overbooking tickets: 12  Expected Profit: $42925.35229364208\n",
      "Overbooking tickets: 13  Expected Profit: $43063.54870642237\n",
      "Overbooking tickets: 14  Expected Profit: $43218.63127368909\n",
      "Overbooking tickets: 15  Expected Profit: $43386.84725286574\n",
      "Overbooking tickets: 16  Expected Profit: $43564.773475099646\n",
      "Overbooking tickets: 17  Expected Profit: $43749.93402096498\n",
      "Overbooking tickets: 18  Expected Profit: $43940.91935801791\n",
      "Overbooking tickets: 19  Expected Profit: $44137.27276904824\n",
      "Overbooking tickets: 20  Expected Profit: $44338.80154938388\n"
     ]
    }
   ],
   "source": [
    "overbook_num = []  # store the number of tickets that is allowed to be overbooked\n",
    "exp_profit_list = []  # store the expected profit\n",
    "\n",
    "for n in range(20):\n",
    "  overbook_num.append(n+1)\n",
    "  #print(\"Overbooking tickets: \", n+1)\n",
    "  over_result = new_overbook_func(n+1)\n",
    "  V_result = over_result[0]\n",
    "  exp_profit = V_result[0,0,0]\n",
    "  print(\"Overbooking tickets:\", n+1, \" Expected Profit: $\" + str(exp_profit))\n",
    "  exp_profit_list.append(exp_profit)\n",
    "\n"
   ]
  },
  {
   "cell_type": "code",
   "execution_count": 143,
   "metadata": {
    "colab": {
     "base_uri": "https://localhost:8080/",
     "height": 283
    },
    "id": "uT6xuvjF8y1U",
    "outputId": "067b1c82-cd40-40ec-f01c-23e4b5348760"
   },
   "outputs": [
    {
     "data": {
      "text/plain": [
       "<matplotlib.collections.PathCollection at 0x7f5dfbac1350>"
      ]
     },
     "execution_count": 143,
     "metadata": {},
     "output_type": "execute_result"
    },
    {
     "data": {
      "image/png": "[encoded data removed]",
      "text/plain": [
       "<Figure size 432x288 with 1 Axes>"
      ]
     },
     "metadata": {
      "needs_background": "light"
     },
     "output_type": "display_data"
    }
   ],
   "source": [
    "plt.scatter(overbook_num,exp_profit_list, marker='o', s=40)"
   ]
  },
  {
   "cell_type": "code",
   "execution_count": 143,
   "metadata": {
    "id": "LcWo_JBDwmUw"
   },
   "outputs": [],
   "source": []
  },
  {
   "cell_type": "markdown",
   "metadata": {
    "id": "0l-xhs6D6tPd"
   },
   "source": [
    "# Part 4:\n",
    "\n",
    "Now that you have solved the problem backwards, use the optimal overbooking policy to simulate the solution forward many times. How often is coach overbooked? How often are passengers kicked off the plane? What is the average overbooking cost? What is the volatility of discounted profits? Are there any other interesting questions you can think of? Make a few graphs to examine these questions. Do this for both policies above."
   ]
  },
  {
   "cell_type": "markdown",
   "metadata": {
    "id": "M7_gLSamX9Pc"
   },
   "source": [
    "### First policy - allow overbooking 5 tickets\n",
    "### We make 1000 simulations"
   ]
  },
  {
   "cell_type": "code",
   "execution_count": 144,
   "metadata": {
    "colab": {
     "base_uri": "https://localhost:8080/"
    },
    "id": "aCw2gBqTd4VV",
    "outputId": "b0243bae-987f-410c-fa8a-30ffbb92c4cb"
   },
   "outputs": [
    {
     "name": "stdout",
     "output_type": "stream",
     "text": [
      "From the first policy, the optimal overbooking policy we got is to allow 9 overbookings.\n",
      " \n",
      "So we use this overbooking number and its V and U arrays in this simulation part.\n"
     ]
    }
   ],
   "source": [
    "print(\"From the first policy, the optimal overbooking policy we got is to allow 9 overbookings.\")\n",
    "print(\" \")\n",
    "print(\"So we use this overbooking number and its V and U arrays in this simulation part.\")"
   ]
  },
  {
   "cell_type": "code",
   "execution_count": 145,
   "metadata": {
    "id": "_BGTXNGf8Zfc"
   },
   "outputs": [],
   "source": [
    "simulation = 1000\n",
    "\n",
    "# use the ob_num and U & V from the optimal overbooking policy so far\n",
    "opti_ob_num = over_allowed_9\n",
    "opti_V = V_9\n",
    "opti_U = U_9\n",
    "\n",
    "\n",
    "# define some vecs to store results of all simulations...\n",
    "exp_profit_list = np.zeros(simulation)\n",
    "total_revenue_list = np.zeros(simulation)\n",
    "is_overbooked_list = np.zeros(simulation)\n",
    "overbook_num_list = np.zeros(simulation)\n",
    "kickoff_num_list = np.zeros(simulation)\n",
    "has_kickoff_list = np.zeros(simulation)\n",
    "bump_up_list = np.zeros(simulation)\n",
    "overbook_cost_list = np.zeros(simulation)\n",
    "c_sold_list = np.zeros(simulation)\n",
    "f_sold_list = np.zeros(simulation)\n",
    "total_sold_list = np.zeros(simulation)\n",
    "passenger_showup_list = np.zeros(simulation)\n",
    "\n",
    "\n",
    "##### --------START OF ALL SIMULATIONS-------- #####\n",
    "\n",
    "for sim in range(simulation):\n",
    "  tot_n_coach = n_coach + opti_ob_num # number of coach seats on plane\n",
    "  tot_n_first = n_first # number of first class seats on plane\n",
    "  T = 365 # days until takeoff\n",
    "\n",
    "  sValues_C = np.arange(tot_n_coach + 1) # all possible number of seats left in coach\n",
    "  sValues_F = np.arange(tot_n_first + 1) # all possible number of seats left in first class\n",
    "  tValues = np.arange(T + 1) # all possible days until takeoff\n",
    "\n",
    "  sN_C = len(sValues_C) # count possible state values in coach\n",
    "  sN_F = len(sValues_F) # count possible state values in first class\n",
    "  tN = len(tValues)\n",
    "\n",
    "  V = np.zeros((sN_C,sN_F,tN)) # initialize value function\n",
    "  U = np.zeros((sN_C,sN_F,tN)) # initialize optimal choice variable\n",
    "\n",
    "\n",
    "  # define some vecs to store values in every single simulation...\n",
    "  tot_revenue_vec = np.zeros(tN)\n",
    "  c_sold_vec = np.zeros(tN-1)\n",
    "  f_sold_vec = np.zeros(tN-1)\n",
    "  price_vec = np.zeros(tN-1)\n",
    "\n",
    "  # on the first day...\n",
    "  profit = 0\n",
    "  tot_revenue = 0\n",
    "  overbook_cost = 0\n",
    "  c = 0  # c: coach sold\n",
    "  f = 0  # f: first-class sold\n",
    "  ppl_kickoff = 0\n",
    "\n",
    "\n",
    "\n",
    "  ##### --------START OF THIS ROUND OF SIMULATION-------- #####\n",
    "  for t in range(tN-1):\n",
    "    opt_price = opti_U[c,f,t]\n",
    "    price_vec[t] = opt_price # store this price into the price vector\n",
    "\n",
    "   # No sales, val_LcLf, val_HcLf, val_LcHf, val_HcHf, val_NcLf, val_NcHf\n",
    "   #    0          1         2         3         4         5         6\n",
    "\n",
    "\n",
    "    if opt_price == 1: # LcLF\n",
    "      prob_c = prob_Lc[1]\n",
    "      prob_f = prob_Lf[1]\n",
    "      price_c = price_Lc\n",
    "      price_f = price_Lf\n",
    "    elif opt_price == 2: # HcLf\n",
    "      prob_c = prob_Hc[1]\n",
    "      prob_f = prob_Lf[1]\n",
    "      price_c = price_Hc\n",
    "      price_f = price_Lf\n",
    "    elif opt_price == 3: # LcHf\n",
    "      prob_c = prob_Lc[1]\n",
    "      prob_f = prob_Hf[1]\n",
    "      price_c = price_Lc\n",
    "      price_f = price_Hf\n",
    "    elif opt_price == 4: # HcHf\n",
    "      prob_c = prob_Hc[1]\n",
    "      prob_f = prob_Hf[1]\n",
    "      price_c = price_Hc\n",
    "      price_f = price_Hf\n",
    "    elif opt_price == 5: # NcLf\n",
    "      prob_c = 0\n",
    "      prob_f = prob_Lf[1]\n",
    "      price_c = 0\n",
    "      price_f = price_Lf\n",
    "    elif opt_price == 6: # NcHf\n",
    "      prob_c = 0\n",
    "      prob_f = prob_Hf[1]\n",
    "      price_c = 0\n",
    "      price_f = price_Hf\n",
    "    else: # no tickets for sale\n",
    "      prob_c = 0\n",
    "      prob_f = 0\n",
    "      price_c = 0\n",
    "      price_f = 0\n",
    "\n",
    "    if c == tot_n_coach - 1:\n",
    "      prob_c = 0\n",
    "    if f == tot_n_first - 1:\n",
    "      prob_f = 0\n",
    "\n",
    "\n",
    "    \n",
    "    sale_c = (np.random.random(1) < prob_c) # simulate whether a sale of coach was made or not\n",
    "    sale_f = (np.random.random(1) < prob_f) # simulate whether a sale of first-class was made or \n",
    "\n",
    "\n",
    "    # add the sale to number of tickets sold\n",
    "    c = int(c + sale_c)\n",
    "    f = int(f + sale_f)\n",
    "\n",
    "    tot_revenue = tot_revenue + ((sale_c*price_c) + (sale_f*price_f)) * delta**(t-1) # add discounted revenue\n",
    "\n",
    "    # save the results\n",
    "    c_sold_vec[t] = c # seats sold (cumulative) in coach\n",
    "    f_sold_vec[t] = f # seats sold (cumulative) in first-class\n",
    "    tot_revenue_vec[t] = tot_revenue # revenue gained (until time t)\n",
    "\n",
    "    ##### --------END OF THIS ROUNDS OF SIMULATION-------- #####\n",
    "\n",
    " \n",
    "\n",
    "  # store the total number of booking in c and f in this round of simulation in the sold_lists:\n",
    "  c_sold_list[sim] = c\n",
    "  f_sold_list[sim] = f\n",
    "  total_sold_list[sim] = c + f\n",
    "\n",
    "  # store the total revenue in this round of simulation in the list\n",
    "  total_revenue_list[sim] = tot_revenue\n",
    "  # store overbook-or-not in this round of simulation in the list\n",
    "  if c > n_coach:\n",
    "    is_overbooked_list[sim] = 1\n",
    "\n",
    "\n",
    "  # calculate the number of people who actually show up in this round of simulation\n",
    "                             # (trails, probability, size)\n",
    "  c_showup = int(np.random.binomial(c, showprob_C, 1))\n",
    "  f_showup = int(np.random.binomial(f, showprob_F, 1))\n",
    "\n",
    "\n",
    "  c_actual_showup = np.sum(c_showup)\n",
    "  f_actual_showup = np.sum(f_showup)\n",
    "  # store number of passengers who actually showed up in this round of simulation in passenger_showup_list\n",
    "  passenger_showup_list[sim] = c_actual_showup + f_actual_showup\n",
    "\n",
    "  # calculate the total bumpup & bumpoff cost in this round of simulation\n",
    "  overseat = max(c_actual_showup - n_coach, 0)\n",
    "  up = min(n_first - f_actual_showup, overseat)\n",
    "  cost = (cost_bumpup*up + cost_bumpoff*(overseat-up))\n",
    "  total_bump_cost = cost\n",
    "  # store number of overbooking in this round of simulation in the overbook_num_list\n",
    "  overbook_num_list[sim] = overseat\n",
    "  # store number of bumped up passengers in this round of simulation in the bump_up_list\n",
    "  bump_up_list[sim] = up\n",
    "  # store total overbook cost in this round of simulation in the overbook_cost_list\n",
    "  overbook_cost_list[sim] = total_bump_cost\n",
    "\n",
    "  # store kick-off-or-not in the list of has_kickoff_list\n",
    "  kickoff_num_list[sim] = max(overseat-up, 0)\n",
    "  if (overseat-up > 0):\n",
    "    has_kickoff_list[sim] = 1\n",
    "\n",
    "\n"
   ]
  },
  {
   "cell_type": "code",
   "execution_count": 146,
   "metadata": {
    "colab": {
     "base_uri": "https://localhost:8080/"
    },
    "id": "5XZSZb4ZbWRQ",
    "outputId": "cc413972-ba75-4f79-cd9c-bc102657840c"
   },
   "outputs": [
    {
     "name": "stdout",
     "output_type": "stream",
     "text": [
      "The frequency that coach is overbooked is: 100.0%\n"
     ]
    }
   ],
   "source": [
    "print(\"The frequency that coach is overbooked is: \" + str((np.sum(is_overbooked_list)/simulation)*100) + \"%\")"
   ]
  },
  {
   "cell_type": "code",
   "execution_count": 147,
   "metadata": {
    "colab": {
     "base_uri": "https://localhost:8080/",
     "height": 351
    },
    "id": "QcteWT_qrowt",
    "outputId": "42b4e628-0bdf-46eb-8e49-df03476f33c6"
   },
   "outputs": [
    {
     "data": {
      "image/png": "[encoded data removed]",
      "text/plain": [
       "<Figure size 576x360 with 1 Axes>"
      ]
     },
     "metadata": {
      "needs_background": "light"
     },
     "output_type": "display_data"
    }
   ],
   "source": [
    "# Overbooking graph\n",
    "plt.figure(figsize=(8,5),edgecolor='blue')\n",
    "plt.hist(overbook_num_list)\n",
    "plt.title(\"Number and Frequency of Overbooked Seats\",size='x-large')\n",
    "plt.xlabel(\"Overbooked Seats\")\n",
    "plt.ylabel(\"Number of Simulations\")\n",
    "plt.show()"
   ]
  },
  {
   "cell_type": "code",
   "execution_count": 148,
   "metadata": {
    "colab": {
     "base_uri": "https://localhost:8080/"
    },
    "id": "RrpWnvorwmlD",
    "outputId": "3b486ab8-a203-4e02-8e9c-186d2088c248"
   },
   "outputs": [
    {
     "name": "stdout",
     "output_type": "stream",
     "text": [
      "The frequency of passengers being kicked off the plane is: 54.300000000000004%\n"
     ]
    }
   ],
   "source": [
    "print(\"The frequency of passengers being kicked off the plane is: \" + str((np.sum(has_kickoff_list)/simulation)*100) + \"%\")"
   ]
  },
  {
   "cell_type": "code",
   "execution_count": 149,
   "metadata": {
    "colab": {
     "base_uri": "https://localhost:8080/",
     "height": 351
    },
    "id": "lIhghEiCvPy_",
    "outputId": "3e4d4193-91b1-4063-8147-174570eee52f"
   },
   "outputs": [
    {
     "data": {
      "image/png": "[encoded data removed]",
      "text/plain": [
       "<Figure size 576x360 with 1 Axes>"
      ]
     },
     "metadata": {
      "needs_background": "light"
     },
     "output_type": "display_data"
    }
   ],
   "source": [
    "# Kickoff graph\n",
    "plt.figure(figsize=(8,5),edgecolor='blue')\n",
    "plt.hist(kickoff_num_list)\n",
    "plt.title(\"Number and Frequency of Kicked Off Passengers\",size='x-large')\n",
    "plt.xlabel(\"Number of Passengers who got Kicked Off\")\n",
    "plt.ylabel(\"Number of Simulations\")\n",
    "plt.show()"
   ]
  },
  {
   "cell_type": "code",
   "execution_count": 150,
   "metadata": {
    "colab": {
     "base_uri": "https://localhost:8080/"
    },
    "id": "NfuGnGsywmoQ",
    "outputId": "6a030246-179b-43c7-cddd-bf1672e9f2f6"
   },
   "outputs": [
    {
     "name": "stdout",
     "output_type": "stream",
     "text": [
      "The average overbooking cost is: $619.6\n"
     ]
    }
   ],
   "source": [
    "print(\"The average overbooking cost is: $\" + str(np.mean(overbook_cost_list)))"
   ]
  },
  {
   "cell_type": "code",
   "execution_count": 151,
   "metadata": {
    "colab": {
     "base_uri": "https://localhost:8080/",
     "height": 351
    },
    "id": "oXClONeWv8Nx",
    "outputId": "6b206d5f-ed2a-405a-8fff-978c4f385381"
   },
   "outputs": [
    {
     "data": {
      "image/png": "[encoded data removed]",
      "text/plain": [
       "<Figure size 576x360 with 1 Axes>"
      ]
     },
     "metadata": {
      "needs_background": "light"
     },
     "output_type": "display_data"
    }
   ],
   "source": [
    "# Overbooking Cost graph\n",
    "plt.figure(figsize=(8,5),edgecolor='blue')\n",
    "plt.hist(overbook_cost_list)\n",
    "plt.title(\"Amount and Frequency of Total Overbooking Cost\",size='x-large')\n",
    "plt.xlabel(\"Amount of Overbooking Cost (in $)\")\n",
    "plt.ylabel(\"Number of Simulations\")\n",
    "plt.show()"
   ]
  },
  {
   "cell_type": "code",
   "execution_count": 152,
   "metadata": {
    "colab": {
     "base_uri": "https://localhost:8080/"
    },
    "id": "JC6iR-pKwmm5",
    "outputId": "c97e83dd-49c2-4bc7-991a-41d6aa81c1dd"
   },
   "outputs": [
    {
     "name": "stdout",
     "output_type": "stream",
     "text": [
      "The average discounted profits is: $42863.506494029294\n",
      "The variance of discounted profits is: $561256.406966201\n",
      "The standard deviation of discounted profits is: $749.1704792410076\n"
     ]
    }
   ],
   "source": [
    "print(\"The average discounted profits is: $\" + str(np.mean(total_revenue_list)))\n",
    "print(\"The variance of discounted profits is: $\" + str(np.var(total_revenue_list)))\n",
    "print(\"The standard deviation of discounted profits is: $\" + str(np.std(total_revenue_list)))"
   ]
  },
  {
   "cell_type": "code",
   "execution_count": 153,
   "metadata": {
    "colab": {
     "base_uri": "https://localhost:8080/",
     "height": 351
    },
    "id": "LqNMoeHMwUNg",
    "outputId": "3a0e0552-a821-45e5-8956-3047d5c91977"
   },
   "outputs": [
    {
     "data": {
      "image/png": "[encoded data removed]",
      "text/plain": [
       "<Figure size 576x360 with 1 Axes>"
      ]
     },
     "metadata": {
      "needs_background": "light"
     },
     "output_type": "display_data"
    }
   ],
   "source": [
    "# Average Discounted Profit graph\n",
    "plt.figure(figsize=(8,5),edgecolor='blue')\n",
    "plt.hist(total_revenue_list)\n",
    "plt.title(\"Amount and Frequency of Total Discounted Revenue\",size='x-large')\n",
    "plt.xlabel(\"Amount of Total Discounted Revenue (in $)\")\n",
    "plt.ylabel(\"Number of Simulations\")\n",
    "plt.show()"
   ]
  },
  {
   "cell_type": "markdown",
   "metadata": {
    "id": "V5fOpgoDyVpp"
   },
   "source": [
    "### **Some other interesting questions we thought of:**\n",
    "\n",
    "#### 1. How many passengers actually showed up in every simulation?\n",
    "#### 2. How many passengers actually shoed up in every simulation?\n",
    "#### 3. How many coach passengers got bumped up to first class in every simulation?"
   ]
  },
  {
   "cell_type": "code",
   "execution_count": 154,
   "metadata": {
    "colab": {
     "base_uri": "https://localhost:8080/",
     "height": 351
    },
    "id": "rXjUFY_0x6Vh",
    "outputId": "dbc54705-a8d6-4b83-8fdd-23cf653c5bf3"
   },
   "outputs": [
    {
     "data": {
      "image/png": "[encoded data removed]",
      "text/plain": [
       "<Figure size 576x360 with 1 Axes>"
      ]
     },
     "metadata": {
      "needs_background": "light"
     },
     "output_type": "display_data"
    }
   ],
   "source": [
    "# Passengers show up graph\n",
    "plt.figure(figsize=(8,5),edgecolor='blue')\n",
    "plt.hist(passenger_showup_list)\n",
    "plt.title(\"Number and Frequency of Passengers that Showed Up\",size='x-large')\n",
    "plt.xlabel(\"Number of Passengers who Showed Up\")\n",
    "plt.ylabel(\"Number of Simulations\")\n",
    "plt.show()"
   ]
  },
  {
   "cell_type": "code",
   "execution_count": 155,
   "metadata": {
    "colab": {
     "base_uri": "https://localhost:8080/",
     "height": 351
    },
    "id": "XbFK_SnLx6Sn",
    "outputId": "ce35ce85-4308-44ce-8225-7aa3f7e4c662"
   },
   "outputs": [
    {
     "data": {
      "image/png": "[encoded data removed]",
      "text/plain": [
       "<Figure size 576x360 with 1 Axes>"
      ]
     },
     "metadata": {
      "needs_background": "light"
     },
     "output_type": "display_data"
    }
   ],
   "source": [
    "# Percentage of Passengers show up graph\n",
    "plt.figure(figsize=(8,5),edgecolor='blue')\n",
    "plt.hist((passenger_showup_list/total_sold_list)*100)\n",
    "plt.title(\"Percentage and Frequency of Passengers that Showed Up\",size='x-large')\n",
    "plt.xlabel(\"% of Passengers who Showed Up\")\n",
    "plt.ylabel(\"Number of Simulations\")\n",
    "plt.show()"
   ]
  },
  {
   "cell_type": "code",
   "execution_count": 156,
   "metadata": {
    "colab": {
     "base_uri": "https://localhost:8080/",
     "height": 351
    },
    "id": "eiI_YBJOx6P3",
    "outputId": "0d6ede22-59f7-4429-8df3-f9d4780ccc6c"
   },
   "outputs": [
    {
     "data": {
      "image/png": "[encoded data removed]",
      "text/plain": [
       "<Figure size 576x360 with 1 Axes>"
      ]
     },
     "metadata": {
      "needs_background": "light"
     },
     "output_type": "display_data"
    }
   ],
   "source": [
    "# Bump Up graph\n",
    "plt.figure(figsize=(8,5),edgecolor='blue')\n",
    "plt.hist(bump_up_list)\n",
    "plt.title(\"Number and Frequency of Passengers got Bumped Up\",size='x-large')\n",
    "plt.xlabel(\"Number of Passengers got Bumped Up\")\n",
    "plt.ylabel(\"Number of Simulations\")\n",
    "plt.show()"
   ]
  },
  {
   "cell_type": "code",
   "execution_count": 156,
   "metadata": {
    "id": "XRJ1t03Xx6Mx"
   },
   "outputs": [],
   "source": []
  },
  {
   "cell_type": "code",
   "execution_count": 156,
   "metadata": {
    "id": "UCCrF6jI5tW1"
   },
   "outputs": [],
   "source": []
  },
  {
   "cell_type": "markdown",
   "metadata": {
    "id": "5MtY4_Hq84NV"
   },
   "source": [
    "### Second policy - allow overbooking 20 tickets - We also make 1000 simulations"
   ]
  },
  {
   "cell_type": "code",
   "execution_count": 157,
   "metadata": {
    "colab": {
     "base_uri": "https://localhost:8080/"
    },
    "id": "bRYxHYEd5tX2",
    "outputId": "5a87a8cf-4b4f-4383-9942-1637e1449ce7"
   },
   "outputs": [
    {
     "name": "stdout",
     "output_type": "stream",
     "text": [
      "From the second policy, the optimal overbooking policy we got is to allow 20 overbookings.\n",
      " \n",
      "So we use this overbooking number and its V and U arrays in this simulation part.\n"
     ]
    }
   ],
   "source": [
    "print(\"From the second policy, the optimal overbooking policy we got is to allow 20 overbookings.\")\n",
    "print(\" \")\n",
    "print(\"So we use this overbooking number and its V and U arrays in this simulation part.\")"
   ]
  },
  {
   "cell_type": "code",
   "execution_count": 158,
   "metadata": {
    "id": "2rYKDneRZG3u"
   },
   "outputs": [],
   "source": [
    "simulation = 1000\n",
    "\n",
    "# use the ob_num and U & V from the optimal overbooking policy so far\n",
    "opti_ob_num = 20\n",
    "opti_V = V_20\n",
    "opti_U = U_20\n",
    "\n",
    "\n",
    "# define some vecs to store results of all simulations...\n",
    "exp_profit_list = np.zeros(simulation)\n",
    "total_revenue_list = np.zeros(simulation)\n",
    "is_overbooked_list = np.zeros(simulation)\n",
    "overbook_num_list = np.zeros(simulation)\n",
    "kickoff_num_list = np.zeros(simulation)\n",
    "has_kickoff_list = np.zeros(simulation)\n",
    "bump_up_list = np.zeros(simulation)\n",
    "overbook_cost_list = np.zeros(simulation)\n",
    "c_sold_list = np.zeros(simulation)\n",
    "f_sold_list = np.zeros(simulation)\n",
    "total_sold_list = np.zeros(simulation)\n",
    "passenger_showup_list = np.zeros(simulation)\n",
    "\n",
    "\n",
    "##### --------START OF ALL SIMULATIONS-------- #####\n",
    "\n",
    "for sim in range(simulation):\n",
    "  #print(sim)\n",
    "  tot_n_coach = n_coach + opti_ob_num # number of coach seats on plane\n",
    "  tot_n_first = n_first # number of first class seats on plane\n",
    "  T = 365 # days until takeoff\n",
    "\n",
    "  sValues_C = np.arange(tot_n_coach + 1) # all possible number of seats left in coach\n",
    "  sValues_F = np.arange(tot_n_first + 1) # all possible number of seats left in first class\n",
    "  tValues = np.arange(T + 1) # all possible days until takeoff\n",
    "\n",
    "  sN_C = len(sValues_C) # count possible state values in coach\n",
    "  sN_F = len(sValues_F) # count possible state values in first class\n",
    "  tN = len(tValues)\n",
    "\n",
    "  V = np.zeros((sN_C,sN_F,tN)) # initialize value function\n",
    "  U = np.zeros((sN_C,sN_F,tN)) # initialize optimal choice variable\n",
    "\n",
    "\n",
    "  # define some vecs to store values in every single simulation...\n",
    "  tot_revenue_vec = np.zeros(tN)\n",
    "  c_sold_vec = np.zeros(tN-1)\n",
    "  f_sold_vec = np.zeros(tN-1)\n",
    "  price_vec = np.zeros(tN-1)\n",
    "\n",
    "  # on the first day...\n",
    "  profit = 0\n",
    "  tot_revenue = 0\n",
    "  overbook_cost = 0\n",
    "  c = 0  # c: coach sold\n",
    "  f = 0  # f: first-class sold\n",
    "  ppl_kickoff = 0\n",
    "\n",
    "\n",
    "\n",
    "  ##### --------START OF THIS ROUND OF SIMULATION-------- #####\n",
    "  for t in range(tN-1):\n",
    "    opt_price = opti_U[c,f,t]\n",
    "    price_vec[t] = opt_price # store this price into the price vector\n",
    "\n",
    "   # No sales, val_LcLf, val_HcLf, val_LcHf, val_HcHf, val_NcLf, val_NcHf\n",
    "   #    0          1         2         3         4         5         6\n",
    "\n",
    "\n",
    "    if opt_price == 1: # LcLF\n",
    "      prob_c = prob_Lc[1]\n",
    "      prob_f = prob_Lf[1]\n",
    "      price_c = price_Lc\n",
    "      price_f = price_Lf\n",
    "    elif opt_price == 2: # HcLf\n",
    "      prob_c = prob_Hc[1]\n",
    "      prob_f = prob_Lf[1]\n",
    "      price_c = price_Hc\n",
    "      price_f = price_Lf\n",
    "    elif opt_price == 3: # LcHf\n",
    "      prob_c = prob_Lc[1]\n",
    "      prob_f = prob_Hf[1]\n",
    "      price_c = price_Lc\n",
    "      price_f = price_Hf\n",
    "    elif opt_price == 4: # HcHf\n",
    "      prob_c = prob_Hc[1]\n",
    "      prob_f = prob_Hf[1]\n",
    "      price_c = price_Hc\n",
    "      price_f = price_Hf\n",
    "    elif opt_price == 5: # NcLf\n",
    "      prob_c = 0\n",
    "      prob_f = prob_Lf[1]\n",
    "      price_c = 0\n",
    "      price_f = price_Lf\n",
    "    elif opt_price == 6: # NcHf\n",
    "      prob_c = 0\n",
    "      prob_f = prob_Hf[1]\n",
    "      price_c = 0\n",
    "      price_f = price_Hf\n",
    "    else: # no tickets for sale\n",
    "      prob_c = 0\n",
    "      prob_f = 0\n",
    "      price_c = 0\n",
    "      price_f = 0\n",
    "\n",
    "    if c == tot_n_coach - 1:\n",
    "      prob_c = 0\n",
    "    if f == tot_n_first - 1:\n",
    "      prob_f = 0\n",
    "\n",
    "\n",
    "    \n",
    "    sale_c = (np.random.random(1) < prob_c) # simulate whether a sale of coach was made or not\n",
    "    sale_f = (np.random.random(1) < prob_f) # simulate whether a sale of first-class was made or \n",
    "\n",
    "\n",
    "    # add the sale to number of tickets sold\n",
    "    c = int(c + sale_c)\n",
    "    f = int(f + sale_f)\n",
    "\n",
    "    tot_revenue = tot_revenue + ((sale_c*price_c) + (sale_f*price_f)) * delta**(t-1) # add discounted revenue\n",
    "\n",
    "    # save the results\n",
    "    c_sold_vec[t] = c # seats sold (cumulative) in coach\n",
    "    f_sold_vec[t] = f # seats sold (cumulative) in first-class\n",
    "    tot_revenue_vec[t] = tot_revenue # revenue gained (until time t)\n",
    "\n",
    "    ##### --------END OF THIS ROUNDS OF SIMULATION-------- #####\n",
    "\n",
    " \n",
    "\n",
    "  # store the total number of booking in c and f in this round of simulation in the sold_lists:\n",
    "  c_sold_list[sim] = c\n",
    "  f_sold_list[sim] = f\n",
    "  total_sold_list[sim] = c + f\n",
    "\n",
    "  # store the total revenue in this round of simulation in the list\n",
    "  total_revenue_list[sim] = tot_revenue\n",
    "  # store overbook-or-not in this round of simulation in the list\n",
    "  if c > n_coach:\n",
    "    is_overbooked_list[sim] = 1\n",
    "\n",
    "\n",
    "  # calculate the number of people who actually show up in this round of simulation\n",
    "                             # (trails, probability, size)\n",
    "  c_showup = int(np.random.binomial(c, showprob_C, 1))\n",
    "  f_showup = int(np.random.binomial(f, showprob_F, 1))\n",
    "\n",
    "\n",
    "  c_actual_showup = np.sum(c_showup)\n",
    "  f_actual_showup = np.sum(f_showup)\n",
    "  # store number of passengers who actually showed up in this round of simulation in passenger_showup_list\n",
    "  passenger_showup_list[sim] = c_actual_showup + f_actual_showup\n",
    "\n",
    "  # calculate the total bumpup & bumpoff cost in this round of simulation\n",
    "  overseat = max(c_actual_showup - n_coach, 0)\n",
    "  up = min(n_first - f_actual_showup, overseat)\n",
    "  cost = (cost_bumpup*up + cost_bumpoff*(overseat-up))\n",
    "  total_bump_cost = cost\n",
    "  # store number of overbooking in this round of simulation in the overbook_num_list\n",
    "  overbook_num_list[sim] = overseat\n",
    "  # store number of bumped up passengers in this round of simulation in the bump_up_list\n",
    "  bump_up_list[sim] = up\n",
    "  # store total overbook cost in this round of simulation in the overbook_cost_list\n",
    "  overbook_cost_list[sim] = total_bump_cost\n",
    "\n",
    "  # store kick-off-or-not in the list of has_kickoff_list\n",
    "  kickoff_num_list[sim] = max(overseat-up, 0)\n",
    "  if (overseat-up > 0):\n",
    "    has_kickoff_list[sim] = 1\n",
    "\n"
   ]
  },
  {
   "cell_type": "code",
   "execution_count": 159,
   "metadata": {
    "colab": {
     "base_uri": "https://localhost:8080/"
    },
    "id": "hRcg0GyI5taA",
    "outputId": "b35ee9e5-6038-4cc3-d223-96de701e3da4"
   },
   "outputs": [
    {
     "name": "stdout",
     "output_type": "stream",
     "text": [
      "The frequency that coach is overbooked is: 100.0%\n"
     ]
    }
   ],
   "source": [
    "print(\"The frequency that coach is overbooked is: \" + str((np.sum(is_overbooked_list)/simulation)*100) + \"%\")"
   ]
  },
  {
   "cell_type": "code",
   "execution_count": 160,
   "metadata": {
    "colab": {
     "base_uri": "https://localhost:8080/",
     "height": 351
    },
    "id": "QFfcGaNlwtK4",
    "outputId": "73d5c3cc-4ed3-4748-bbb0-d3c0197d0449"
   },
   "outputs": [
    {
     "data": {
      "image/png": "[encoded data removed]",
      "text/plain": [
       "<Figure size 576x360 with 1 Axes>"
      ]
     },
     "metadata": {
      "needs_background": "light"
     },
     "output_type": "display_data"
    }
   ],
   "source": [
    "# Overbooking graph\n",
    "plt.figure(figsize=(8,5),edgecolor='blue')\n",
    "plt.hist(overbook_num_list)\n",
    "plt.title(\"Number and Frequency of Overbooked Seats\",size='x-large')\n",
    "plt.xlabel(\"Overbooked Seats\")\n",
    "plt.ylabel(\"Number of Simulations\")\n",
    "plt.show()"
   ]
  },
  {
   "cell_type": "code",
   "execution_count": 161,
   "metadata": {
    "colab": {
     "base_uri": "https://localhost:8080/"
    },
    "id": "ydacctm55tc1",
    "outputId": "12072b69-cfab-4632-b8e7-d7834bdbfb23"
   },
   "outputs": [
    {
     "name": "stdout",
     "output_type": "stream",
     "text": [
      "The frequency of passengers being kicked off the plane is: 100.0%\n"
     ]
    }
   ],
   "source": [
    "print(\"The frequency of passengers being kicked off the plane is: \" + str((np.sum(has_kickoff_list)/simulation)*100) + \"%\")"
   ]
  },
  {
   "cell_type": "code",
   "execution_count": 162,
   "metadata": {
    "colab": {
     "base_uri": "https://localhost:8080/",
     "height": 351
    },
    "id": "aBJHuSnKw5JP",
    "outputId": "065ff707-4189-49a5-e249-ac9d14a4ce43"
   },
   "outputs": [
    {
     "data": {
      "image/png": "[encoded data removed]",
      "text/plain": [
       "<Figure size 576x360 with 1 Axes>"
      ]
     },
     "metadata": {
      "needs_background": "light"
     },
     "output_type": "display_data"
    }
   ],
   "source": [
    "# Kickoff graph\n",
    "plt.figure(figsize=(8,5),edgecolor='blue')\n",
    "plt.hist(kickoff_num_list)\n",
    "plt.title(\"Number and Frequency of Kicked Off Passengers\",size='x-large')\n",
    "plt.xlabel(\"Number of Passengers who got Kicked Off\")\n",
    "plt.ylabel(\"Number of Simulations\")\n",
    "plt.show()"
   ]
  },
  {
   "cell_type": "code",
   "execution_count": 163,
   "metadata": {
    "colab": {
     "base_uri": "https://localhost:8080/"
    },
    "id": "GEbopH-F5teD",
    "outputId": "22065b6f-31ee-45e8-8ade-4d168f4772b1"
   },
   "outputs": [
    {
     "name": "stdout",
     "output_type": "stream",
     "text": [
      "The average overbooking cost is: $4709.875\n"
     ]
    }
   ],
   "source": [
    "print(\"The average overbooking cost is: $\" + str(np.mean(overbook_cost_list)))"
   ]
  },
  {
   "cell_type": "code",
   "execution_count": 164,
   "metadata": {
    "colab": {
     "base_uri": "https://localhost:8080/",
     "height": 351
    },
    "id": "L6kaQQiQxCtq",
    "outputId": "ece79c8d-4066-425e-8a8e-632bcfb4d77b"
   },
   "outputs": [
    {
     "data": {
      "image/png": "[encoded data removed]",
      "text/plain": [
       "<Figure size 576x360 with 1 Axes>"
      ]
     },
     "metadata": {
      "needs_background": "light"
     },
     "output_type": "display_data"
    }
   ],
   "source": [
    "# Overbooking Cost graph\n",
    "plt.figure(figsize=(8,5),edgecolor='blue')\n",
    "plt.hist(overbook_cost_list)\n",
    "plt.title(\"Amount and Frequency of Total Overbooking Cost\",size='x-large')\n",
    "plt.xlabel(\"Amount of Overbooking Cost (in $)\")\n",
    "plt.ylabel(\"Number of Simulations\")\n",
    "plt.show()"
   ]
  },
  {
   "cell_type": "code",
   "execution_count": 165,
   "metadata": {
    "colab": {
     "base_uri": "https://localhost:8080/"
    },
    "id": "nPhS8mC15tfL",
    "outputId": "5d2492c3-a4df-43ed-f019-71c68e52409b"
   },
   "outputs": [
    {
     "name": "stdout",
     "output_type": "stream",
     "text": [
      "The average discounted profits is: $44694.48941596324\n",
      "The variance of discounted profits is: $433591.56162804086\n",
      "The standard deviation of discounted profits is: $658.4766978626053\n"
     ]
    }
   ],
   "source": [
    "print(\"The average discounted profits is: $\" + str(np.mean(total_revenue_list)))\n",
    "print(\"The variance of discounted profits is: $\" + str(np.var(total_revenue_list)))\n",
    "print(\"The standard deviation of discounted profits is: $\" + str(np.std(total_revenue_list)))"
   ]
  },
  {
   "cell_type": "code",
   "execution_count": 166,
   "metadata": {
    "colab": {
     "base_uri": "https://localhost:8080/",
     "height": 351
    },
    "id": "-4MWGARbxHBq",
    "outputId": "11b2aa2b-8f46-469f-84fc-1676877d4875"
   },
   "outputs": [
    {
     "data": {
      "image/png": "[encoded data removed]",
      "text/plain": [
       "<Figure size 576x360 with 1 Axes>"
      ]
     },
     "metadata": {
      "needs_background": "light"
     },
     "output_type": "display_data"
    }
   ],
   "source": [
    "# Average Discounted Profit graph\n",
    "plt.figure(figsize=(8,5),edgecolor='blue')\n",
    "plt.hist(total_revenue_list)\n",
    "plt.title(\"Amount and Frequency of Total Discounted Revenue\",size='x-large')\n",
    "plt.xlabel(\"Amount of Total Discounted Revenue (in $)\")\n",
    "plt.ylabel(\"Number of Simulations\")\n",
    "plt.show()"
   ]
  },
  {
   "cell_type": "markdown",
   "metadata": {
    "id": "RPJ__MKhy_op"
   },
   "source": [
    "### **Some other interesting questions we thought of:**\n",
    "\n",
    "#### 1. How many passengers actually showed up in every simulation?\n",
    "#### 2. How many passengers actually shoed up in every simulation?\n",
    "#### 3. How many coach passengers got bumped up to first class in every simulation?"
   ]
  },
  {
   "cell_type": "code",
   "execution_count": 167,
   "metadata": {
    "colab": {
     "base_uri": "https://localhost:8080/",
     "height": 351
    },
    "id": "edVB970H5toF",
    "outputId": "bb7d4cd4-239f-47e6-cc0d-bff7483a97d4"
   },
   "outputs": [
    {
     "data": {
      "image/png": "[encoded data removed]",
      "text/plain": [
       "<Figure size 576x360 with 1 Axes>"
      ]
     },
     "metadata": {
      "needs_background": "light"
     },
     "output_type": "display_data"
    }
   ],
   "source": [
    "# Passengers show up graph\n",
    "plt.figure(figsize=(8,5),edgecolor='blue')\n",
    "plt.hist(passenger_showup_list)\n",
    "plt.title(\"Number and Frequency of Passengers that Showed Up\",size='x-large')\n",
    "plt.xlabel(\"Number of Passengers who Showed Up\")\n",
    "plt.ylabel(\"Number of Simulations\")\n",
    "plt.show()"
   ]
  },
  {
   "cell_type": "code",
   "execution_count": 168,
   "metadata": {
    "colab": {
     "base_uri": "https://localhost:8080/",
     "height": 351
    },
    "id": "xcdd2lNd5tqR",
    "outputId": "07859c02-4228-4bcd-a3a4-acd6158d7ee3"
   },
   "outputs": [
    {
     "data": {
      "image/png": "[encoded data removed]",
      "text/plain": [
       "<Figure size 576x360 with 1 Axes>"
      ]
     },
     "metadata": {
      "needs_background": "light"
     },
     "output_type": "display_data"
    }
   ],
   "source": [
    "# Percentage of Passengers show up graph\n",
    "plt.figure(figsize=(8,5),edgecolor='blue')\n",
    "plt.hist((passenger_showup_list/total_sold_list)*100)\n",
    "plt.title(\"Percentage and Frequency of Passengers that Showed Up\",size='x-large')\n",
    "plt.xlabel(\"% of Passengers who Showed Up\")\n",
    "plt.ylabel(\"Number of Simulations\")\n",
    "plt.show()"
   ]
  },
  {
   "cell_type": "code",
   "execution_count": 169,
   "metadata": {
    "colab": {
     "base_uri": "https://localhost:8080/",
     "height": 351
    },
    "id": "nIJLsIv3y-xV",
    "outputId": "066a8bca-8c81-4c72-ed37-844ea81b9495"
   },
   "outputs": [
    {
     "data": {
      "image/png": "[encoded data removed]",
      "text/plain": [
       "<Figure size 576x360 with 1 Axes>"
      ]
     },
     "metadata": {
      "needs_background": "light"
     },
     "output_type": "display_data"
    }
   ],
   "source": [
    "# Bump Up graph\n",
    "plt.figure(figsize=(8,5),edgecolor='blue')\n",
    "plt.hist(bump_up_list)\n",
    "plt.title(\"Number and Frequency of Passengers got Bumped Up\",size='x-large')\n",
    "plt.xlabel(\"Number of Passengers got Bumped Up\")\n",
    "plt.ylabel(\"Number of Simulations\")\n",
    "plt.show()"
   ]
  },
  {
   "cell_type": "code",
   "execution_count": 169,
   "metadata": {
    "id": "LTJCRDA4y-zm"
   },
   "outputs": [],
   "source": []
  },
  {
   "cell_type": "code",
   "execution_count": 169,
   "metadata": {
    "id": "eB86I_DEy-17"
   },
   "outputs": [],
   "source": []
  }
 ],
 "metadata": {
  "accelerator": "GPU",
  "colab": {
   "collapsed_sections": [],
   "name": "Opti_Project_2_Lorraine_Zhou.ipynb",
   "provenance": []
  },
  "kernelspec": {
   "display_name": "Python 3",
   "language": "python",
   "name": "python3"
  },
  "language_info": {
   "codemirror_mode": {
    "name": "ipython",
    "version": 3
   },
   "file_extension": ".py",
   "mimetype": "text/x-python",
   "name": "python",
   "nbconvert_exporter": "python",
   "pygments_lexer": "ipython3",
   "version": "3.8.8"
  }
 },
 "nbformat": 4,
 "nbformat_minor": 1
}
